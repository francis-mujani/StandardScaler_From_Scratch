{
 "cells": [
  {
   "cell_type": "code",
   "execution_count": null,
   "metadata": {
    "colab": {},
    "colab_type": "code",
    "id": "16Mby8wrlP2i"
   },
   "outputs": [],
   "source": [
    " TP STANDARDSCALER FROM SCRATCH"
   ]
  },
  {
   "cell_type": "markdown",
   "metadata": {
    "colab_type": "text",
    "id": "StgvTWACloNn"
   },
   "source": []
  },
  {
   "cell_type": "markdown",
   "metadata": {
    "colab_type": "text",
    "id": "cokOWql3lsdY"
   },
   "source": [
    "Créer une class StandardScaler2 avec comme méthode fit, transform, fit_transform et en attribut un dicitonnaire params_ qui contient la moyenne et l'écart_type de vos données. Les données en entrées sont uniquement de array numpy (pas des dataframes)\n",
    "me dire que vous avez terminé avant de faire le bonus.\n",
    "en bonus :\n",
    "- mettre une erreur si on essaye de transform sans avoir de fit\n",
    "- permettre au code de fonctionner, peut importe si l'entrée est une numpy array ou une dataframe\n"
   ]
  },
  {
   "cell_type": "code",
   "execution_count": null,
   "metadata": {
    "colab": {},
    "colab_type": "code",
    "id": "IGI44T4Elwhi"
   },
   "outputs": [],
   "source": [
    "\n",
    "import numpy as np\n",
    "\n",
    "class StandardScaler:\n",
    "    def __init__(self, object):\n",
    "        self.object = object\n",
    "\n",
    "        self.params_ = {}\n",
    "\n",
    "    def fit(self, object):\n",
    "          # fit \n",
    "        self.mean_ = np.mean(self.object, axis=0)\n",
    "        self.scale_ = np.std(self.object - self.mean_, axis=0)\n",
    "        \n",
    "        # append in dic\n",
    "        self.params_['moyenne'] = self.mean_\n",
    "        self.params_['ecart-type'] = self.scale_\n",
    "\n",
    "        return self.mean_, self.scale_\n",
    "\n",
    "    def transform(self, object):\n",
    "      # list\n",
    "      self.fit_list = list()\n",
    "      # loup\n",
    "      for i in range(len(self.object)):\n",
    "            self.a = self.object[i:i+1]\n",
    "            self.result = (self.object[i:i+1] - self.mean_) / (self.scale_)\n",
    "            self.fit_list.append(self.result)\n",
    "      return self.fit_list\n",
    "\n",
    "    def fit_transform(self, object):\n",
    "\n",
    "      self.fit_transfor = list()\n",
    "      for i in self.transform(object):\n",
    "        self.fit_transfor.append(i)\n",
    "      return self.fit_transfor\n",
    "\n",
    "        "
   ]
  },
  {
   "cell_type": "code",
   "execution_count": null,
   "metadata": {},
   "outputs": [],
   "source": [
    "import pandas as pd\n",
    "\n",
    "df = pd.DataFrame(data=np.linspace(20, 50))"
   ]
  },
  {
   "cell_type": "code",
   "execution_count": null,
   "metadata": {},
   "outputs": [],
   "source": [
    "scaler = StandardScaler(df)"
   ]
  },
  {
   "cell_type": "code",
   "execution_count": null,
   "metadata": {},
   "outputs": [],
   "source": [
    "scaler.fit(df)"
   ]
  },
  {
   "cell_type": "code",
   "execution_count": null,
   "metadata": {},
   "outputs": [],
   "source": [
    "scaler.params_"
   ]
  },
  {
   "cell_type": "code",
   "execution_count": null,
   "metadata": {},
   "outputs": [],
   "source": [
    "scaler.transform(df)"
   ]
  },
  {
   "cell_type": "code",
   "execution_count": null,
   "metadata": {},
   "outputs": [],
   "source": [
    "scaler.fit_transform(df)"
   ]
  },
  {
   "cell_type": "code",
   "execution_count": null,
   "metadata": {},
   "outputs": [],
   "source": [
    "from sklearn.preprocessing import StandardScaler\n",
    "\n",
    "scaler = StandardScaler().fit(df)\n",
    "scaler.transform(df)"
   ]
  }
 ],
 "metadata": {
  "colab": {
   "collapsed_sections": [],
   "name": "Untitled2.ipynb",
   "provenance": []
  },
  "kernelspec": {
   "display_name": "Python 3",
   "language": "python",
   "name": "python3"
  },
  "language_info": {
   "codemirror_mode": {
    "name": "ipython",
    "version": 3
   },
   "file_extension": ".py",
   "mimetype": "text/x-python",
   "name": "python",
   "nbconvert_exporter": "python",
   "pygments_lexer": "ipython3",
   "version": "3.7.4"
  }
 },
 "nbformat": 4,
 "nbformat_minor": 1
}