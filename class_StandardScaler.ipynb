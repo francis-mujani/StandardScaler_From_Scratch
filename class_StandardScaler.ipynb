{
 "cells": [
  {
   "cell_type": "code",
   "execution_count": 0,
   "metadata": {
    "colab": {},
    "colab_type": "code",
    "id": "16Mby8wrlP2i"
   },
   "outputs": [],
   "source": [
    "TP STANDARDSCALER FROM SCRATCH"
   ]
  },
  {
   "cell_type": "markdown",
   "metadata": {
    "colab_type": "text",
    "id": "StgvTWACloNn"
   },
   "source": []
  },
  {
   "cell_type": "code",
   "execution_count": null,
   "metadata": {
    "colab_type": "text",
    "id": "cokOWql3lsdY"
   },
   "outputs": [],
   "source": [
    "Créer une class StandardScaler2 avec comme méthode fit, transform, fit_transform et en attribut un dicitonnaire params_ qui contient la moyenne et l'écart_type de vos données. Les données en entrées sont uniquement de array numpy (pas des dataframes)\n",
    "me dire que vous avez terminé avant de faire le bonus.\n",
    "en bonus :\n",
    "- mettre une erreur si on essaye de transform sans avoir de fit\n",
    "- permettre au code de fonctionner, peut importe si l'entrée est une numpy array ou une dataframe\n"
   ]
  },
  {
   "cell_type": "code",
   "execution_count": 0,
   "metadata": {
    "colab": {},
    "colab_type": "code",
    "id": "IGI44T4Elwhi"
   },
   "outputs": [],
   "source": [
    "import numpy as np\n",
    "\n",
    "X = np.array([[1, 2, 53],\n",
    "             [91, 2, 7],\n",
    "             [1, 82, 33],])\n",
    "\n",
    "\n",
    "\n",
    "        "
   ]
  },
  {
   "cell_type": "code",
   "execution_count": 0,
   "metadata": {
    "colab": {},
    "colab_type": "code",
    "id": "UE5OVEdgsfLc"
   },
   "outputs": [],
   "source": [
    "class StandardScaler2:\n",
    "  def __init__(self,array_num):\n",
    "        self.array_num = array_num\n",
    "  \n",
    "        self.params_ = {}\n",
    "\n",
    "  def fit(self):\n",
    "    for i in range(1, len(self.array_num)):\n",
    "      self.moyennes_colonnes = np.mean(X[:,i])\n",
    "      self.ecart_types = np.std(X[:,i])\n",
    "      self.params_[f'moyenne_colonne{i}'] = self.moyennes_colonnes\n",
    "      self.params_[f'ecart-type_colonne{i}'] = self.ecart_types\n",
    "    return self.moyennes_colonnes, self.ecart_types\n",
    "\n",
    "    \n",
    "  def transform(self):\n",
    "    for i in range(len(self.array_num)):\n",
    "      for a in self.array_num[:,i]:\n",
    "        print(a)\n",
    "        self.result_2 = (a - (self.params_[f'moyenne_colonne{i}']) / (self.params_[f'ecart-type_colonne{i}']) )\n",
    "        #self.result =  (self.array_num -(np.mean(X[:,i]))) / (np.std(X[:,i]))\n",
    "    #return self.result_2\n",
    "\n",
    "  def fit_transform(self):\n",
    "    return self.transform()"
   ]
  },
  {
   "cell_type": "code",
   "execution_count": 0,
   "metadata": {
    "colab": {},
    "colab_type": "code",
    "id": "d4E3a9JAvFSY"
   },
   "outputs": [],
   "source": [
    "X_transform = StandardScaler2(X)"
   ]
  },
  {
   "cell_type": "code",
   "execution_count": 125,
   "metadata": {
    "colab": {
     "base_uri": "https://localhost:8080/",
     "height": 34
    },
    "colab_type": "code",
    "id": "Hawps0PzvwMX",
    "outputId": "c0b73b93-7af2-4264-8622-56607c20879a"
   },
   "outputs": [
    {
     "data": {
      "text/plain": [
       "(31.0, 18.83259585576738)"
      ]
     },
     "execution_count": 125,
     "metadata": {
      "tags": []
     },
     "output_type": "execute_result"
    }
   ],
   "source": [
    "X_transform.fit()"
   ]
  },
  {
   "cell_type": "code",
   "execution_count": 126,
   "metadata": {
    "colab": {
     "base_uri": "https://localhost:8080/",
     "height": 85
    },
    "colab_type": "code",
    "id": "hibb0L4ev1MZ",
    "outputId": "e55b9d60-3216-4b01-a9cc-f848a99aa3e1"
   },
   "outputs": [
    {
     "data": {
      "text/plain": [
       "{'ecart-type_colonne1': 37.71236166328253,\n",
       " 'ecart-type_colonne2': 18.83259585576738,\n",
       " 'moyenne_colonne1': 28.666666666666668,\n",
       " 'moyenne_colonne2': 31.0}"
      ]
     },
     "execution_count": 126,
     "metadata": {
      "tags": []
     },
     "output_type": "execute_result"
    }
   ],
   "source": [
    "X_transform.params_"
   ]
  },
  {
   "cell_type": "code",
   "execution_count": 127,
   "metadata": {
    "colab": {
     "base_uri": "https://localhost:8080/",
     "height": 300
    },
    "colab_type": "code",
    "id": "DhnC_I1wx5aN",
    "outputId": "93549cb9-2196-47a5-ad2e-9d2813bf7040"
   },
   "outputs": [
    {
     "name": "stdout",
     "output_type": "stream",
     "text": [
      "1\n"
     ]
    },
    {
     "ename": "KeyError",
     "evalue": "ignored",
     "output_type": "error",
     "traceback": [
      "\u001b[0;31m---------------------------------------------------------------------------\u001b[0m",
      "\u001b[0;31mKeyError\u001b[0m                                  Traceback (most recent call last)",
      "\u001b[0;32m<ipython-input-127-e74787d5c0e8>\u001b[0m in \u001b[0;36m<module>\u001b[0;34m()\u001b[0m\n\u001b[0;32m----> 1\u001b[0;31m \u001b[0mX_transform\u001b[0m\u001b[0;34m.\u001b[0m\u001b[0mtransform\u001b[0m\u001b[0;34m(\u001b[0m\u001b[0;34m)\u001b[0m\u001b[0;34m\u001b[0m\u001b[0;34m\u001b[0m\u001b[0m\n\u001b[0m",
      "\u001b[0;32m<ipython-input-122-1c071d7a01fb>\u001b[0m in \u001b[0;36mtransform\u001b[0;34m(self)\u001b[0m\n\u001b[1;32m     18\u001b[0m       \u001b[0;32mfor\u001b[0m \u001b[0ma\u001b[0m \u001b[0;32min\u001b[0m \u001b[0mself\u001b[0m\u001b[0;34m.\u001b[0m\u001b[0marray_num\u001b[0m\u001b[0;34m[\u001b[0m\u001b[0;34m:\u001b[0m\u001b[0;34m,\u001b[0m\u001b[0mi\u001b[0m\u001b[0;34m]\u001b[0m\u001b[0;34m:\u001b[0m\u001b[0;34m\u001b[0m\u001b[0;34m\u001b[0m\u001b[0m\n\u001b[1;32m     19\u001b[0m         \u001b[0mprint\u001b[0m\u001b[0;34m(\u001b[0m\u001b[0ma\u001b[0m\u001b[0;34m)\u001b[0m\u001b[0;34m\u001b[0m\u001b[0;34m\u001b[0m\u001b[0m\n\u001b[0;32m---> 20\u001b[0;31m         \u001b[0mself\u001b[0m\u001b[0;34m.\u001b[0m\u001b[0mresult_2\u001b[0m \u001b[0;34m=\u001b[0m \u001b[0;34m(\u001b[0m\u001b[0ma\u001b[0m \u001b[0;34m-\u001b[0m \u001b[0;34m(\u001b[0m\u001b[0mself\u001b[0m\u001b[0;34m.\u001b[0m\u001b[0mparams_\u001b[0m\u001b[0;34m[\u001b[0m\u001b[0;34mf'moyenne_colonne{i}'\u001b[0m\u001b[0;34m]\u001b[0m\u001b[0;34m)\u001b[0m \u001b[0;34m/\u001b[0m \u001b[0;34m(\u001b[0m\u001b[0mself\u001b[0m\u001b[0;34m.\u001b[0m\u001b[0mparams_\u001b[0m\u001b[0;34m[\u001b[0m\u001b[0;34mf'ecart-type_colonne{i}'\u001b[0m\u001b[0;34m]\u001b[0m\u001b[0;34m)\u001b[0m \u001b[0;34m)\u001b[0m\u001b[0;34m\u001b[0m\u001b[0;34m\u001b[0m\u001b[0m\n\u001b[0m\u001b[1;32m     21\u001b[0m         \u001b[0;31m#self.result =  (self.array_num -(np.mean(X[:,i]))) / (np.std(X[:,i]))\u001b[0m\u001b[0;34m\u001b[0m\u001b[0;34m\u001b[0m\u001b[0;34m\u001b[0m\u001b[0m\n\u001b[1;32m     22\u001b[0m     \u001b[0;31m#return self.result_2\u001b[0m\u001b[0;34m\u001b[0m\u001b[0;34m\u001b[0m\u001b[0;34m\u001b[0m\u001b[0m\n",
      "\u001b[0;31mKeyError\u001b[0m: 'moyenne_colonne0'"
     ]
    }
   ],
   "source": [
    "X_transform.transform()"
   ]
  },
  {
   "cell_type": "code",
   "execution_count": 51,
   "metadata": {
    "colab": {
     "base_uri": "https://localhost:8080/",
     "height": 68
    },
    "colab_type": "code",
    "id": "T7Gl3aceyAXK",
    "outputId": "e6aa492e-64af-4d76-b219-c535e50cb527"
   },
   "outputs": [
    {
     "data": {
      "text/plain": [
       "array([[-1.59298273, -1.53988331,  1.16818734],\n",
       "       [ 3.18596546, -1.53988331, -1.27438619],\n",
       "       [-1.59298273,  2.70807064,  0.10619885]])"
      ]
     },
     "execution_count": 51,
     "metadata": {
      "tags": []
     },
     "output_type": "execute_result"
    }
   ],
   "source": [
    "X_transform.fit_transform()"
   ]
  },
  {
   "cell_type": "code",
   "execution_count": null,
   "metadata": {
    "colab": {},
    "colab_type": "code",
    "id": "fiYm9FPMySYX"
   },
   "outputs": [],
   "source": [
    "2EME CLASSE"
   ]
  },
  {
   "cell_type": "code",
   "execution_count": 0,
   "metadata": {
    "colab": {},
    "colab_type": "code",
    "id": "B8fTI04C3WZ0"
   },
   "outputs": [],
   "source": [
    "class StandardScaler_2:\n",
    "  def __init__(self,array_num):\n",
    "        self.array_num = array_num\n",
    "  \n",
    "        self.params_ = {}\n",
    "\n",
    "  def fit(self, array_num):\n",
    "    for i in range(len(self.array_num)):\n",
    "      self.params_[f'moyenne_colonne-{i}'] = np.mean(X[:,i])\n",
    "      self.params_[f'ecart-type_colonne-{i}'] = np.std(X[:,i])\n",
    "    return self\n",
    "\n",
    "  def transform(self, array_num):\n",
    "    for i in range(len(self.array_num)):\n",
    "      self.result =  (self.array_num -(np.mean(X[:,i]))) / (np.std(X[:,i]))\n",
    "    return self.result\n",
    "\n",
    "  def fit_transform(self, array_num):\n",
    "    return self.fit(array_num).transform(array_num)"
   ]
  },
  {
   "cell_type": "code",
   "execution_count": 0,
   "metadata": {
    "colab": {},
    "colab_type": "code",
    "id": "VcCF61T9-6C7"
   },
   "outputs": [],
   "source": [
    "X_transform1 = StandardScaler_2(X)"
   ]
  },
  {
   "cell_type": "code",
   "execution_count": 136,
   "metadata": {
    "colab": {
     "base_uri": "https://localhost:8080/",
     "height": 34
    },
    "colab_type": "code",
    "id": "qU9sOp7V--2H",
    "outputId": "d835107f-95fb-4ecf-a563-3df52268d1df"
   },
   "outputs": [
    {
     "data": {
      "text/plain": [
       "<__main__.StandardScaler_2 at 0x7f5baeb46828>"
      ]
     },
     "execution_count": 136,
     "metadata": {
      "tags": []
     },
     "output_type": "execute_result"
    }
   ],
   "source": [
    "X_transform1.fit(X)"
   ]
  },
  {
   "cell_type": "code",
   "execution_count": 139,
   "metadata": {
    "colab": {
     "base_uri": "https://localhost:8080/",
     "height": 119
    },
    "colab_type": "code",
    "id": "ZSqnjJ4x_DX5",
    "outputId": "7fd47a4f-9ca0-4434-ffa1-725b93069848"
   },
   "outputs": [
    {
     "data": {
      "text/plain": [
       "{'ecart-type_colonne-0': 42.42640687119285,\n",
       " 'ecart-type_colonne-1': 37.71236166328253,\n",
       " 'ecart-type_colonne-2': 18.83259585576738,\n",
       " 'moyenne_colonne-0': 31.0,\n",
       " 'moyenne_colonne-1': 28.666666666666668,\n",
       " 'moyenne_colonne-2': 31.0}"
      ]
     },
     "execution_count": 139,
     "metadata": {
      "tags": []
     },
     "output_type": "execute_result"
    }
   ],
   "source": [
    "X_transform1.params_"
   ]
  },
  {
   "cell_type": "code",
   "execution_count": 140,
   "metadata": {
    "colab": {
     "base_uri": "https://localhost:8080/",
     "height": 68
    },
    "colab_type": "code",
    "id": "we2qkaCDKT5l",
    "outputId": "313dad02-cdf6-4b64-b0b9-f5a19a8db26c"
   },
   "outputs": [
    {
     "data": {
      "text/plain": [
       "array([[-1.59298273, -1.53988331,  1.16818734],\n",
       "       [ 3.18596546, -1.53988331, -1.27438619],\n",
       "       [-1.59298273,  2.70807064,  0.10619885]])"
      ]
     },
     "execution_count": 140,
     "metadata": {
      "tags": []
     },
     "output_type": "execute_result"
    }
   ],
   "source": [
    "X_transform1.transform(X)"
   ]
  },
  {
   "cell_type": "code",
   "execution_count": 141,
   "metadata": {
    "colab": {
     "base_uri": "https://localhost:8080/",
     "height": 68
    },
    "colab_type": "code",
    "id": "9s4StGU5_G6d",
    "outputId": "7429f0ca-43e2-4f1a-aa67-a4e029abea7e"
   },
   "outputs": [
    {
     "data": {
      "text/plain": [
       "array([[-1.59298273, -1.53988331,  1.16818734],\n",
       "       [ 3.18596546, -1.53988331, -1.27438619],\n",
       "       [-1.59298273,  2.70807064,  0.10619885]])"
      ]
     },
     "execution_count": 141,
     "metadata": {
      "tags": []
     },
     "output_type": "execute_result"
    }
   ],
   "source": [
    "X_transform1.fit_transform(X)"
   ]
  },
  {
   "cell_type": "code",
   "execution_count": 0,
   "metadata": {
    "colab": {},
    "colab_type": "code",
    "id": "kSaE7pBe_aNl"
   },
   "outputs": [],
   "source": []
  }
 ],
 "metadata": {
  "colab": {
   "collapsed_sections": [],
   "name": "Untitled2.ipynb",
   "provenance": []
  },
  "kernelspec": {
   "display_name": "Python 3",
   "language": "python",
   "name": "python3"
  },
  "language_info": {
   "codemirror_mode": {
    "name": "ipython",
    "version": 3
   },
   "file_extension": ".py",
   "mimetype": "text/x-python",
   "name": "python",
   "nbconvert_exporter": "python",
   "pygments_lexer": "ipython3",
   "version": "3.7.4"
  }
 },
 "nbformat": 4,
 "nbformat_minor": 1
}